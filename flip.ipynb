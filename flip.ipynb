{
 "cells": [
  {
   "cell_type": "code",
   "execution_count": 33,
   "id": "a0f23907",
   "metadata": {},
   "outputs": [],
   "source": [
    "# import required library\n",
    "import cv2\n",
    "\n",
    "# read input image\n",
    "img = cv2.imread('C:/Users/CCL/Downloads/bitwise/beye.jfif')\n",
    "\n",
    "# flip the image by vertically\n",
    "img_v = cv2.flip(img, 0)\n",
    "\n",
    "# display the rotated image\n",
    "cv2.imshow(\"Vertical Flip\", img_v)\n",
    "cv2.waitKey(0)\n",
    "cv2.destroyAllWindows()\n",
    "\n",
    "img_h = cv2.flip(img, 1)\n",
    "\n",
    "# display the rotated image\n",
    "cv2.imshow(\"Horizontal Flip\", img_h)\n",
    "cv2.waitKey(0)\n",
    "cv2.destroyAllWindows()\n",
    "\n",
    "img_vh = cv2.flip(img, -1)\n",
    "\n",
    "# display the rotated image\n",
    "cv2.imshow(\"Both vertical and horizontal flip\", img_vh)\n",
    "cv2.waitKey(0)\n",
    "cv2.destroyAllWindows()"
   ]
  },
  {
   "cell_type": "code",
   "execution_count": 30,
   "id": "e8b58d28",
   "metadata": {},
   "outputs": [],
   "source": []
  },
  {
   "cell_type": "code",
   "execution_count": null,
   "id": "d11709a1",
   "metadata": {},
   "outputs": [],
   "source": []
  }
 ],
 "metadata": {
  "kernelspec": {
   "display_name": "Python 3 (ipykernel)",
   "language": "python",
   "name": "python3"
  },
  "language_info": {
   "codemirror_mode": {
    "name": "ipython",
    "version": 3
   },
   "file_extension": ".py",
   "mimetype": "text/x-python",
   "name": "python",
   "nbconvert_exporter": "python",
   "pygments_lexer": "ipython3",
   "version": "3.9.12"
  }
 },
 "nbformat": 4,
 "nbformat_minor": 5
}
