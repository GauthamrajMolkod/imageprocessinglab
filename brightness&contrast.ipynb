{
 "cells": [
  {
   "cell_type": "code",
   "execution_count": 9,
   "id": "dc15fa77",
   "metadata": {},
   "outputs": [
    {
     "name": "stderr",
     "output_type": "stream",
     "text": [
      "ERROR: Could not find a version that satisfies the requirement openCV (from versions: none)\n",
      "ERROR: No matching distribution found for openCV\n"
     ]
    },
    {
     "ename": "error",
     "evalue": "OpenCV(4.7.0) D:\\a\\opencv-python\\opencv-python\\opencv\\modules\\highgui\\src\\window.cpp:866: error: (-215:Assertion failed) trackbar in function 'cv::getTrackbarPos'\n",
     "output_type": "error",
     "traceback": [
      "\u001b[1;31m---------------------------------------------------------------------------\u001b[0m",
      "\u001b[1;31merror\u001b[0m                                     Traceback (most recent call last)",
      "Input \u001b[1;32mIn [9]\u001b[0m, in \u001b[0;36mBrightnessContrast\u001b[1;34m(brightness)\u001b[0m\n\u001b[0;32m      5\u001b[0m \u001b[38;5;28;01mdef\u001b[39;00m \u001b[38;5;21mBrightnessContrast\u001b[39m(brightness\u001b[38;5;241m=\u001b[39m\u001b[38;5;241m0\u001b[39m):\n\u001b[0;32m      6\u001b[0m \t\n\u001b[0;32m      7\u001b[0m \t\u001b[38;5;66;03m# getTrackbarPos returns the current\u001b[39;00m\n\u001b[0;32m      8\u001b[0m \t\u001b[38;5;66;03m# position of the specified trackbar.\u001b[39;00m\n\u001b[0;32m      9\u001b[0m \tbrightness \u001b[38;5;241m=\u001b[39m cv2\u001b[38;5;241m.\u001b[39mgetTrackbarPos(\u001b[38;5;124m'\u001b[39m\u001b[38;5;124mBrightness\u001b[39m\u001b[38;5;124m'\u001b[39m,\n\u001b[0;32m     10\u001b[0m                                     \u001b[38;5;124m'\u001b[39m\u001b[38;5;124mGEEK\u001b[39m\u001b[38;5;124m'\u001b[39m)\n\u001b[1;32m---> 11\u001b[0m \tcontrast \u001b[38;5;241m=\u001b[39m \u001b[43mcv2\u001b[49m\u001b[38;5;241;43m.\u001b[39;49m\u001b[43mgetTrackbarPos\u001b[49m\u001b[43m(\u001b[49m\u001b[38;5;124;43m'\u001b[39;49m\u001b[38;5;124;43mContrast\u001b[39;49m\u001b[38;5;124;43m'\u001b[39;49m\u001b[43m,\u001b[49m\n\u001b[0;32m     12\u001b[0m \u001b[43m                                  \u001b[49m\u001b[38;5;124;43m'\u001b[39;49m\u001b[38;5;124;43mGEEK\u001b[39;49m\u001b[38;5;124;43m'\u001b[39;49m\u001b[43m)\u001b[49m\n\u001b[0;32m     14\u001b[0m \teffect \u001b[38;5;241m=\u001b[39m controller(img, brightness,\n\u001b[0;32m     15\u001b[0m \t\t\t\t\t\tcontrast)\n\u001b[0;32m     17\u001b[0m \t\u001b[38;5;66;03m# The function imshow displays an image\u001b[39;00m\n\u001b[0;32m     18\u001b[0m \t\u001b[38;5;66;03m# in the specified window\u001b[39;00m\n",
      "\u001b[1;31merror\u001b[0m: OpenCV(4.7.0) D:\\a\\opencv-python\\opencv-python\\opencv\\modules\\highgui\\src\\window.cpp:866: error: (-215:Assertion failed) trackbar in function 'cv::getTrackbarPos'\n"
     ]
    },
    {
     "data": {
      "text/plain": [
       "-1"
      ]
     },
     "execution_count": 9,
     "metadata": {},
     "output_type": "execute_result"
    }
   ],
   "source": [
    "!pip install openCV\n",
    "import cv2\n",
    "\n",
    "\n",
    "def BrightnessContrast(brightness=0):\n",
    "\t\n",
    "\t# getTrackbarPos returns the current\n",
    "\t# position of the specified trackbar.\n",
    "\tbrightness = cv2.getTrackbarPos('Brightness',\n",
    "                                    'GEEK')\n",
    "\tcontrast = cv2.getTrackbarPos('Contrast',\n",
    "                                  'GEEK')\n",
    "\n",
    "\teffect = controller(img, brightness,\n",
    "\t\t\t\t\t\tcontrast)\n",
    "\n",
    "\t# The function imshow displays an image\n",
    "\t# in the specified window\n",
    "\tcv2.imshow('Effect', effect)\n",
    "\n",
    "def controller(img, brightness=255,\n",
    "\t\t\tcontrast=127):\n",
    "\t\n",
    "\tbrightness = int((brightness - 0) * (255 - (-255)) / (510 - 0) + (-255))\n",
    "\n",
    "\tcontrast = int((contrast - 0) * (127 - (-127)) / (254 - 0) + (-127))\n",
    "\n",
    "\tif brightness != 0:\n",
    "\n",
    "\t\tif brightness > 0:\n",
    "\n",
    "\t\t\tshadow = brightness\n",
    "\n",
    "\t\t\tmax = 255\n",
    "\n",
    "\t\telse:\n",
    "\n",
    "\t\t\tshadow = 0\n",
    "\t\t\tmax = 255 + brightness\n",
    "\n",
    "\t\tal_pha = (max - shadow) / 255\n",
    "\t\tga_mma = shadow\n",
    "\n",
    "\t\t# The function addWeighted calculates\n",
    "\t\t# the weighted sum of two arrays\n",
    "\t\tcal = cv2.addWeighted(img, al_pha,\n",
    "\t\t\t\t\t\t\timg, 0, ga_mma)\n",
    "\n",
    "\telse:\n",
    "\t\tcal = img\n",
    "\n",
    "\tif contrast != 0:\n",
    "\t\tAlpha = float(131 * (contrast + 127)) / (127 * (131 - contrast))\n",
    "\t\tGamma = 127 * (1 - Alpha)\n",
    "\n",
    "\t\t# The function addWeighted calculates\n",
    "\t\t# the weighted sum of two arrays\n",
    "\t\tcal = cv2.addWeighted(cal, Alpha,\n",
    "\t\t\t\t\t\t\tcal, 0, Gamma)\n",
    "\n",
    "\t# putText renders the specified text string in the image.\n",
    "\tcv2.putText(cal, 'B:{},C:{}'.format(brightness,\n",
    "\t\t\t\t\t\t\t\t\t\tcontrast), (10, 30),\n",
    "\t\t\t\tcv2.FONT_HERSHEY_SIMPLEX, 1, (0, 0, 255), 2)\n",
    "\n",
    "\treturn cal\n",
    "\n",
    "if __name__ == '__main__':\n",
    "\t# The function imread loads an image\n",
    "\t# from the specified file and returns it.\n",
    "\toriginal = cv2.imread(\"C:/Users/CCL/Downloads/bitwise/dhoni.jfif\")\n",
    "\n",
    "\t# Making another copy of an image.\n",
    "\timg = original.copy()\n",
    "\n",
    "\t# The function namedWindow creates a\n",
    "\t# window that can be used as a placeholder\n",
    "\t# for images.\n",
    "\tcv2.namedWindow('GEEK')\n",
    "\n",
    "\t# The function imshow displays an\n",
    "\t# image in the specified window.\n",
    "\tcv2.imshow('GEEK', original)\n",
    "\n",
    "\t# createTrackbar(trackbarName,\n",
    "\t# windowName, value, count, onChange)\n",
    "\t# Brightness range -255 to 255\n",
    "\tcv2.createTrackbar('Brightness',\n",
    "\t\t\t\t\t'GEEK', 255, 2 * 255,\n",
    "\t\t\t\t\tBrightnessContrast)\n",
    "\t\n",
    "\t# Contrast range -127 to 127\n",
    "\tcv2.createTrackbar('Contrast', 'GEEK',\n",
    "\t\t\t\t\t127, 2 * 127,\n",
    "\t\t\t\t\tBrightnessContrast)\n",
    "\n",
    "\t\n",
    "\tBrightnessContrast(0)\n",
    "\n",
    "# The function waitKey waits for\n",
    "# a key event infinitely or for delay\n",
    "# milliseconds, when it is positive.\n",
    "cv2.waitKey(0)\n"
   ]
  },
  {
   "cell_type": "code",
   "execution_count": null,
   "id": "4b4709f6",
   "metadata": {},
   "outputs": [],
   "source": []
  }
 ],
 "metadata": {
  "kernelspec": {
   "display_name": "Python 3 (ipykernel)",
   "language": "python",
   "name": "python3"
  },
  "language_info": {
   "codemirror_mode": {
    "name": "ipython",
    "version": 3
   },
   "file_extension": ".py",
   "mimetype": "text/x-python",
   "name": "python",
   "nbconvert_exporter": "python",
   "pygments_lexer": "ipython3",
   "version": "3.9.12"
  }
 },
 "nbformat": 4,
 "nbformat_minor": 5
}
