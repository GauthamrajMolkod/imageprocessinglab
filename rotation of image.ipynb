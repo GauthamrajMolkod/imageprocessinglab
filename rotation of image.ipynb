{
 "cells": [
  {
   "cell_type": "code",
   "execution_count": 1,
   "id": "0557c72c",
   "metadata": {},
   "outputs": [],
   "source": [
    "\n",
    "from PIL import Image\n",
    "\n",
    "Original_Image = Image.open(\"C:/Users/CCL/Downloads/panda1.jpg\")\n",
    "\n",
    "\n",
    "\n",
    "\n",
    "\n",
    "rotated_image1 = Original_Image.rotate(180)\n",
    "\n",
    "rotated_image2 = Original_Image.transpose(Image.ROTATE_90)\n",
    "\n",
    "rotated_image3 = Original_Image.rotate(90-45)\n",
    "\n",
    "rotated_image4 = Original_Image.rotate(60)\n",
    "\n",
    "rotated_image5 = Original_Image.rotate(-45)\n",
    "\n",
    "rotated_image6 = Original_Image.rotate(270)\n",
    "\n",
    "rotated_image7 = Original_Image.rotate(90)\n",
    "\n",
    "rotated_image1.show()\n",
    "rotated_image2.show()\n",
    "rotated_image3.show()\n",
    "rotated_image4.show()\n",
    "rotated_image5.show()\n",
    "rotated_image6.show()\n",
    "rotated_image7.show()\n"
   ]
  },
  {
   "cell_type": "code",
   "execution_count": null,
   "id": "de5a771c",
   "metadata": {},
   "outputs": [],
   "source": []
  }
 ],
 "metadata": {
  "kernelspec": {
   "display_name": "Python 3 (ipykernel)",
   "language": "python",
   "name": "python3"
  },
  "language_info": {
   "codemirror_mode": {
    "name": "ipython",
    "version": 3
   },
   "file_extension": ".py",
   "mimetype": "text/x-python",
   "name": "python",
   "nbconvert_exporter": "python",
   "pygments_lexer": "ipython3",
   "version": "3.9.12"
  }
 },
 "nbformat": 4,
 "nbformat_minor": 5
}
