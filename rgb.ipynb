{
 "cells": [
  {
   "cell_type": "code",
   "execution_count": 1,
   "id": "28576ef5",
   "metadata": {},
   "outputs": [],
   "source": [
    "import cv2\n"
   ]
  },
  {
   "cell_type": "code",
   "execution_count": 2,
   "id": "f1d0dd82",
   "metadata": {},
   "outputs": [],
   "source": [
    "img=cv2.imread(\"C:/Users/CCL/Downloads/panda1.jpg\",2)"
   ]
  },
  {
   "cell_type": "code",
   "execution_count": 31,
   "id": "8c7baa52",
   "metadata": {},
   "outputs": [],
   "source": [
    "cv2.imshow('panda1',img)\n",
    "cv2.waitKey(0)\n",
    "cv2.destroyAllWindows()"
   ]
  },
  {
   "cell_type": "code",
   "execution_count": 32,
   "id": "f418e37b",
   "metadata": {},
   "outputs": [],
   "source": [
    "ret, bw_img = cv2.threshold(img, 127, 255, cv2.THRESH_BINARY)\n",
    "  \n",
    "# converting to its binary form\n",
    "bw = cv2.threshold(img, 127, 255, cv2.THRESH_BINARY)\n",
    "  \n",
    "cv2.imshow(\"Binary\", bw_img)\n",
    "cv2.waitKey(0)\n",
    "cv2.destroyAllWindows()"
   ]
  },
  {
   "cell_type": "code",
   "execution_count": 7,
   "id": "0ff919df",
   "metadata": {},
   "outputs": [],
   "source": [
    "img=cv2.imread(\"C:/Users/CCL/Downloads/panda1.jpg\",0)\n",
    "cv2.imshow('panda1',img)\n",
    "cv2.waitKey(0)\n",
    "cv2.destroyAllWindows()\n",
    "ret, bw_img = cv2.threshold(img, 127, 255, cv2.THRESH_BINARY)\n",
    "  \n",
    "# converting to its binary form\n",
    "bw = cv2.threshold(img, 127, 255, cv2.THRESH_BINARY)\n",
    "  \n",
    "cv2.imshow(\"Binary\", bw_img)\n",
    "cv2.waitKey(0)\n",
    "cv2.destroyAllWindows()"
   ]
  },
  {
   "cell_type": "code",
   "execution_count": 6,
   "id": "e485fa40",
   "metadata": {},
   "outputs": [],
   "source": [
    "img=cv2.imread(\"C:/Users/CCL/Downloads/panda1.jpg\",2)\n",
    "cv2.imshow('panda1',img)\n",
    "cv2.waitKey(0)\n",
    "cv2.destroyAllWindows()\n",
    "ret, bw_img = cv2.threshold(img, 127, 255, cv2.THRESH_BINARY)\n",
    "  \n",
    "# converting to its binary form\n",
    "bw = cv2.threshold(img, 127, 255, cv2.THRESH_BINARY)\n",
    "  \n",
    "cv2.imshow(\"Binary\", bw_img)\n",
    "cv2.waitKey(0)\n",
    "cv2.destroyAllWindows()"
   ]
  },
  {
   "cell_type": "code",
   "execution_count": 8,
   "id": "0ebdc88d",
   "metadata": {},
   "outputs": [],
   "source": [
    "img=cv2.imread(\"C:/Users/CCL/Downloads/panda1.jpg\",0)\n",
    "\n",
    "# Displaying the image\n",
    "cv2.imshow('grayscale', img)\n",
    "cv2.waitKey(0)\n",
    "cv2.destroyAllWindows()"
   ]
  },
  {
   "cell_type": "code",
   "execution_count": 27,
   "id": "373ad488",
   "metadata": {},
   "outputs": [],
   "source": [
    "import cv2\n",
    "  \n",
    "image = cv2.imread(\"C:/Users/CCL/Downloads/panda1.jpg\")\n",
    "  \n",
    "# converting BGR to RGB\n",
    "image_rgb = cv2.cvtColor(image, cv2.COLOR_BGR2RGB)\n",
    "  \n",
    "cv2.imshow('image', image_rgb)\n",
    "cv2.waitKey(0)\n",
    "cv2.destroyAllWindows()"
   ]
  },
  {
   "cell_type": "code",
   "execution_count": null,
   "id": "559a7b53",
   "metadata": {},
   "outputs": [],
   "source": [
    "import cv2\n",
    "import numpy as np\n",
    "\n",
    "img = cv2.imread('C:/Users/CCL/Downloads/panda1.jpg')\n",
    "\n",
    "# Method 1: copy image and set other channels to black\n",
    "r = img.copy()\n",
    "r[:,:,0] = r[:,:,1] = 0\n",
    "\n",
    "g = img.copy()\n",
    "g[:,:,0] = g[:,:,2] = 0\n",
    "\n",
    "b = img.copy()\n",
    "b[:,:,1] = b[:,:,2] = 0\n",
    "\n",
    "cv2.imshow(\"red\",r)\n",
    "cv2.imshow(\"green\",g)\n",
    "cv2.imshow(\"blue\",b)\n",
    "cv2.waitKey(0)\n",
    "cv2.destroyAllWindows()\n",
    "\n",
    "\n",
    "# Method 2: split channels and merge with black channels\n",
    "b,g,r = cv2.split(img)\n",
    "k = np.zeros_like(b)\n",
    "b = cv2.merge([b,k,k])\n",
    "g = cv2.merge([k,g,k])\n",
    "r = cv2.merge([k,k,r])\n",
    "\n",
    "cv2.imshow(\"red\",r)\n",
    "cv2.imshow(\"green\",g)\n",
    "cv2.imshow(\"blue\",b)\n",
    "cv2.waitKey(0)\n",
    "cv2.destroyAllWindows()\n",
    "\n",
    "# save results\n",
    "cv2.imwrite(\"panda1_red.jpg\", r)\n",
    "cv2.imwrite(\"panda1_green.jpg\", g)\n",
    "cv2.imwrite(\"panda1_blue.jpg\", b)\n"
   ]
  },
  {
   "cell_type": "code",
   "execution_count": 12,
   "id": "b71a2d0e",
   "metadata": {},
   "outputs": [],
   "source": [
    "\n",
    "import cv2\n",
    "\n",
    "image = cv2.imread('C:/Users/CCL/Downloads/panda1.jpg')\n",
    "cv2.imshow('Original', image)\n",
    "cv2.waitKey(0)\n",
    "  \n",
    "gray_image = cv2.cvtColor(image, cv2.COLOR_BGR2GRAY)\n",
    "  \n",
    "cv2.imshow('Grayscale', gray_image)\n",
    "cv2.waitKey(0)  \n",
    "cv2.destroyAllWindows()"
   ]
  },
  {
   "cell_type": "code",
   "execution_count": null,
   "id": "a576cc74",
   "metadata": {},
   "outputs": [],
   "source": []
  }
 ],
 "metadata": {
  "kernelspec": {
   "display_name": "Python 3 (ipykernel)",
   "language": "python",
   "name": "python3"
  },
  "language_info": {
   "codemirror_mode": {
    "name": "ipython",
    "version": 3
   },
   "file_extension": ".py",
   "mimetype": "text/x-python",
   "name": "python",
   "nbconvert_exporter": "python",
   "pygments_lexer": "ipython3",
   "version": "3.9.12"
  }
 },
 "nbformat": 4,
 "nbformat_minor": 5
}
