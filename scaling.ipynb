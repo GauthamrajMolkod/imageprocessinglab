{
 "cells": [
  {
   "cell_type": "code",
   "execution_count": 5,
   "id": "198f5570",
   "metadata": {},
   "outputs": [
    {
     "name": "stdout",
     "output_type": "stream",
     "text": [
      "Image Shape: 180 174\n",
      "Original Image:\n",
      "Down Sampled Image:\n"
     ]
    },
    {
     "name": "stderr",
     "output_type": "stream",
     "text": [
      "C:\\Users\\CCL\\AppData\\Local\\Temp\\ipykernel_12048\\2870134842.py:28: DeprecationWarning: `np.int` is a deprecated alias for the builtin `int`. To silence this warning, use `int` by itself. Doing this will not modify any behavior and is safe. When replacing `np.int`, you may wish to use e.g. `np.int64` or `np.int32` to specify the precision. If you wish to review your current use, check the release note link for additional information.\n",
      "Deprecated in NumPy 1.20; for more details and guidance: https://numpy.org/devdocs/release/1.20.0-notes.html#deprecations\n",
      "  img2 = np.zeros((m//f, n//f), dtype=np.int)\n",
      "C:\\Users\\CCL\\AppData\\Local\\Temp\\ipykernel_12048\\2870134842.py:52: DeprecationWarning: `np.int` is a deprecated alias for the builtin `int`. To silence this warning, use `int` by itself. Doing this will not modify any behavior and is safe. When replacing `np.int`, you may wish to use e.g. `np.int64` or `np.int32` to specify the precision. If you wish to review your current use, check the release note link for additional information.\n",
      "Deprecated in NumPy 1.20; for more details and guidance: https://numpy.org/devdocs/release/1.20.0-notes.html#deprecations\n",
      "  img3 = np.zeros((m, n), dtype=np.int)\n"
     ]
    },
    {
     "ename": "IndexError",
     "evalue": "index 43 is out of bounds for axis 0 with size 43",
     "output_type": "error",
     "traceback": [
      "\u001b[1;31m---------------------------------------------------------------------------\u001b[0m",
      "\u001b[1;31mIndexError\u001b[0m                                Traceback (most recent call last)",
      "Input \u001b[1;32mIn [5]\u001b[0m, in \u001b[0;36m<cell line: 54>\u001b[1;34m()\u001b[0m\n\u001b[0;32m     54\u001b[0m \u001b[38;5;28;01mfor\u001b[39;00m i \u001b[38;5;129;01min\u001b[39;00m \u001b[38;5;28mrange\u001b[39m(\u001b[38;5;241m0\u001b[39m, m\u001b[38;5;241m-\u001b[39m\u001b[38;5;241m1\u001b[39m, f):\n\u001b[0;32m     55\u001b[0m \t\u001b[38;5;28;01mfor\u001b[39;00m j \u001b[38;5;129;01min\u001b[39;00m \u001b[38;5;28mrange\u001b[39m(\u001b[38;5;241m0\u001b[39m, n\u001b[38;5;241m-\u001b[39m\u001b[38;5;241m1\u001b[39m, f):\n\u001b[1;32m---> 56\u001b[0m \t\timg3[i, j] \u001b[38;5;241m=\u001b[39m \u001b[43mimg2\u001b[49m\u001b[43m[\u001b[49m\u001b[43mi\u001b[49m\u001b[38;5;241;43m/\u001b[39;49m\u001b[38;5;241;43m/\u001b[39;49m\u001b[43mf\u001b[49m\u001b[43m]\u001b[49m\u001b[43m[\u001b[49m\u001b[43mj\u001b[49m\u001b[38;5;241;43m/\u001b[39;49m\u001b[38;5;241;43m/\u001b[39;49m\u001b[43mf\u001b[49m\u001b[43m]\u001b[49m\n\u001b[0;32m     58\u001b[0m \u001b[38;5;66;03m# Nearest neighbour interpolation-Replication\u001b[39;00m\n\u001b[0;32m     59\u001b[0m \u001b[38;5;66;03m# Replicating rows\u001b[39;00m\n\u001b[0;32m     61\u001b[0m \u001b[38;5;28;01mfor\u001b[39;00m i \u001b[38;5;129;01min\u001b[39;00m \u001b[38;5;28mrange\u001b[39m(\u001b[38;5;241m1\u001b[39m, m\u001b[38;5;241m-\u001b[39m(f\u001b[38;5;241m-\u001b[39m\u001b[38;5;241m1\u001b[39m), f):\n",
      "\u001b[1;31mIndexError\u001b[0m: index 43 is out of bounds for axis 0 with size 43"
     ]
    },
    {
     "data": {
      "image/png": "[encoded data removed]",
      "text/plain": [
       "<Figure size 432x288 with 1 Axes>"
      ]
     },
     "metadata": {
      "needs_background": "light"
     },
     "output_type": "display_data"
    }
   ],
   "source": [
    "# Import cv2, matplotlib, numpy\n",
    "import cv2\n",
    "import matplotlib.pyplot as plt\n",
    "import numpy as np\n",
    "\n",
    "\n",
    "# Read the original image and know its type\n",
    "img1 = cv2.imread('C:/Users/CCL/Downloads/bitwise/oip.jfif', 0)\n",
    "\n",
    "# Obtain the size of the original image\n",
    "[m, n] = img1.shape\n",
    "print('Image Shape:', m, n)\n",
    "\n",
    "# Show original image\n",
    "print('Original Image:')\n",
    "plt.imshow(img1, cmap=\"gray\")\n",
    "\n",
    "\n",
    "# Down sampling\n",
    "\n",
    "# Assign a down sampling rate\n",
    "# Here we are down sampling the\n",
    "# image by 4\n",
    "f = 4\n",
    "\n",
    "# Create a matrix of all zeros for\n",
    "# downsampled values\n",
    "img2 = np.zeros((m//f, n//f), dtype=np.int)\n",
    "\n",
    "# Assign the down sampled values from the original\n",
    "# image according to the down sampling frequency.\n",
    "# For example, if the down sampling rate f=2, take\n",
    "# pixel values from alternate rows and columns\n",
    "# and assign them in the matrix created above\n",
    "for i in range(0, m, f):\n",
    "\tfor j in range(0, n, f):\n",
    "\t\ttry:\n",
    "\n",
    "\t\t\timg2[i//f][j//f] = img1[i][j]\n",
    "\t\texcept IndexError:\n",
    "\t\t\tpass\n",
    "\n",
    "\n",
    "# Show down sampled image\n",
    "print('Down Sampled Image:')\n",
    "plt.imshow(img2, cmap=\"gray\")\n",
    "\n",
    "\n",
    "# Up sampling\n",
    "\n",
    "# Create matrix of zeros to store the upsampled image\n",
    "img3 = np.zeros((m, n), dtype=np.int)\n",
    "# new size\n",
    "for i in range(0, m-1, f):\n",
    "\tfor j in range(0, n-1, f):\n",
    "\t\timg3[i, j] = img2[i//f][j//f]\n",
    "\n",
    "# Nearest neighbour interpolation-Replication\n",
    "# Replicating rows\n",
    "\n",
    "for i in range(1, m-(f-1), f):\n",
    "\tfor j in range(0, n-(f-1)):\n",
    "\t\timg3[i:i+(f-1), j] = img3[i-1, j]\n",
    "\n",
    "# Replicating columns\n",
    "for i in range(0, m-1):\n",
    "\tfor j in range(1, n-1, f):\n",
    "\t\timg3[i, j:j+(f-1)] = img3[i, j-1]\n",
    "\n",
    "# Plot the up sampled image\n",
    "print('Up Sampled Image:')\n",
    "plt.imshow(img3, cmap=\"gray\")\n",
    "\n"
   ]
  },
  {
   "cell_type": "code",
   "execution_count": 6,
   "id": "9ca5edbc",
   "metadata": {},
   "outputs": [
    {
     "name": "stdout",
     "output_type": "stream",
     "text": [
      "Size of image before pyrUp:  (180, 174, 3)\n",
      "Size of image after pyrUp:  (360, 348, 3)\n"
     ]
    }
   ],
   "source": [
    "image = cv2.imread('C:/Users/CCL/Downloads/bitwise/oip.jfif')\n",
    "print(\"Size of image before pyrUp: \", image.shape)\n",
    "\n",
    "image = cv2.pyrUp(image)\n",
    "print(\"Size of image after pyrUp: \", image.shape)\n",
    "cv2.imshow('UpSample', image)"
   ]
  },
  {
   "cell_type": "code",
   "execution_count": null,
   "id": "bdab7b3c",
   "metadata": {},
   "outputs": [],
   "source": []
  }
 ],
 "metadata": {
  "kernelspec": {
   "display_name": "Python 3 (ipykernel)",
   "language": "python",
   "name": "python3"
  },
  "language_info": {
   "codemirror_mode": {
    "name": "ipython",
    "version": 3
   },
   "file_extension": ".py",
   "mimetype": "text/x-python",
   "name": "python",
   "nbconvert_exporter": "python",
   "pygments_lexer": "ipython3",
   "version": "3.9.12"
  }
 },
 "nbformat": 4,
 "nbformat_minor": 5
}
