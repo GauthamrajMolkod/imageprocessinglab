{
 "cells": [
  {
   "cell_type": "code",
   "execution_count": 28,
   "id": "34d0fc96",
   "metadata": {},
   "outputs": [],
   "source": [
    "import cv2 \n",
    "import numpy as np \n",
    "     \n",
    "\n",
    "img1 = cv2.imread('C:/Users/CCL/Downloads/bitwise/gold.jfif')  \n",
    "img2 = cv2.imread('C:/Users/CCL/Downloads/bitwise/samsung.jpg') \n",
    "\n",
    "\n",
    "dest_and = cv2.bitwise_and(img2, img1, mask = None)\n",
    "  \n",
    "\n",
    "cv2.imshow('Bitwise And', dest_and)\n",
    "\n",
    "if cv2.waitKey(0) & 0xff == 27: \n",
    "    cv2.destroyAllWindows()"
   ]
  },
  {
   "cell_type": "code",
   "execution_count": 31,
   "id": "71710b61",
   "metadata": {},
   "outputs": [],
   "source": [
    "import cv2 \n",
    "import numpy as np \n",
    "     \n",
    "\n",
    "img1 = cv2.imread('C:/Users/CCL/Downloads/bitwise/gold.jfif')  \n",
    "img2 = cv2.imread('C:/Users/CCL/Downloads/bitwise/samsung.jpg') \n",
    "  \n",
    "dest_or = cv2.bitwise_or(img2, img1, mask = None)\n",
    "  \n",
    "cv2.imshow('Bitwise OR', dest_or)\n",
    "   \n",
    "if cv2.waitKey(0) & 0xff == 27: \n",
    "    cv2.destroyAllWindows()"
   ]
  },
  {
   "cell_type": "code",
   "execution_count": 34,
   "id": "3ecd16f3",
   "metadata": {},
   "outputs": [],
   "source": [
    "import cv2 \n",
    "import numpy as np \n",
    "     \n",
    "img1 = cv2.imread('C:/Users/CCL/Downloads/bitwise/gold.jfif')  \n",
    "img2 = cv2.imread('C:/Users/CCL/Downloads/bitwise/samsung.jpg') \n",
    "  \n",
    "dest_xor = cv2.bitwise_xor(img1, img2, mask = None)\n",
    "  \n",
    "cv2.imshow('Bitwise XOR', dest_xor)\n",
    "   \n",
    "if cv2.waitKey(0) & 0xff == 27: \n",
    "    cv2.destroyAllWindows() "
   ]
  },
  {
   "cell_type": "code",
   "execution_count": 33,
   "id": "d1cbcc86",
   "metadata": {},
   "outputs": [],
   "source": [
    "\n",
    "import cv2 \n",
    "import numpy as np \n",
    "     \n",
    "img1 = cv2.imread('C:/Users/CCL/Downloads/bitwise/gold.jfif')  \n",
    "img2 = cv2.imread('C:/Users/CCL/Downloads/bitwise/samsung.jpg') \n",
    "  \n",
    "dest_not1 = cv2.bitwise_not(img1, mask = None)\n",
    "dest_not2 = cv2.bitwise_not(img2, mask = None)\n",
    "  \n",
    "cv2.imshow('Bitwise NOT on image 1', dest_not1)\n",
    "cv2.imshow('Bitwise NOT on image 2', dest_not2)\n",
    "   \n",
    "if cv2.waitKey(0) & 0xff == 27: \n",
    "    cv2.destroyAllWindows() "
   ]
  },
  {
   "cell_type": "code",
   "execution_count": null,
   "id": "b4f839a1",
   "metadata": {},
   "outputs": [],
   "source": []
  }
 ],
 "metadata": {
  "kernelspec": {
   "display_name": "Python 3 (ipykernel)",
   "language": "python",
   "name": "python3"
  },
  "language_info": {
   "codemirror_mode": {
    "name": "ipython",
    "version": 3
   },
   "file_extension": ".py",
   "mimetype": "text/x-python",
   "name": "python",
   "nbconvert_exporter": "python",
   "pygments_lexer": "ipython3",
   "version": "3.9.12"
  }
 },
 "nbformat": 4,
 "nbformat_minor": 5
}
