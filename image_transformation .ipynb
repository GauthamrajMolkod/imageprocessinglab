{
 "cells": [
  {
   "cell_type": "code",
   "execution_count": 1,
   "id": "d180050e",
   "metadata": {},
   "outputs": [
    {
     "name": "stderr",
     "output_type": "stream",
     "text": [
      "C:\\Users\\CCL\\AppData\\Local\\Temp\\ipykernel_18324\\2966789137.py:9: RuntimeWarning: divide by zero encountered in log\n",
      "  log_transformed = c * np.log(1 + img)\n"
     ]
    },
    {
     "data": {
      "text/plain": [
       "True"
      ]
     },
     "execution_count": 1,
     "metadata": {},
     "output_type": "execute_result"
    }
   ],
   "source": [
    "import cv2\n",
    "import numpy as np\n",
    "\n",
    "# Open the image.\n",
    "img = cv2.imread('C:/Users/CCL/Downloads/panda1.jpg')\n",
    "\n",
    "# Apply log transform.\n",
    "c = 255/(np.log(1 + np.max(img)))\n",
    "log_transformed = c * np.log(1 + img)\n",
    "\n",
    "# Specify the data type.\n",
    "log_transformed = np.array(log_transformed, dtype = np.uint8)\n",
    "\n",
    "# Save the output.\n",
    "cv2.imwrite('log_transformed.jpg', log_transformed)\n"
   ]
  },
  {
   "cell_type": "code",
   "execution_count": 7,
   "id": "b025e932",
   "metadata": {},
   "outputs": [],
   "source": [
    "import cv2\n",
    "import numpy as np\n",
    "  \n",
    "# Open the image.\n",
    "img = cv2.imread('C:/Users/CCL/Downloads/panda1.jpg')\n",
    "  \n",
    "# Trying 4 gamma values.\n",
    "for gamma in [0.1, 0.5, 1.2, 2.2]:\n",
    "      \n",
    "    # Apply gamma correction.\n",
    "    gamma_corrected = np.array(255*(img / 255) ** gamma, dtype = 'uint8')\n",
    "  \n",
    "    # Save edited images.\n",
    "    cv2.imwrite('gamma_transformed'+str(gamma)+'.jpg', gamma_corrected)"
   ]
  },
  {
   "cell_type": "code",
   "execution_count": 8,
   "id": "833638b0",
   "metadata": {},
   "outputs": [
    {
     "data": {
      "text/plain": [
       "True"
      ]
     },
     "execution_count": 8,
     "metadata": {},
     "output_type": "execute_result"
    }
   ],
   "source": [
    "import cv2\n",
    "import numpy as np\n",
    "  \n",
    "# Function to map each intensity level to output intensity level.\n",
    "def pixelVal(pix, r1, s1, r2, s2):\n",
    "    if (0 <= pix and pix <= r1):\n",
    "        return (s1 / r1)*pix\n",
    "    elif (r1 < pix and pix <= r2):\n",
    "        return ((s2 - s1)/(r2 - r1)) * (pix - r1) + s1\n",
    "    else:\n",
    "        return ((255 - s2)/(255 - r2)) * (pix - r2) + s2\n",
    "  \n",
    "# Open the image.\n",
    "img = cv2.imread('C:/Users/CCL/Downloads/panda1.jpg')\n",
    "  \n",
    "# Define parameters.\n",
    "r1 = 70\n",
    "s1 = 0\n",
    "r2 = 140\n",
    "s2 = 255\n",
    "  \n",
    "# Vectorize the function to apply it to each value in the Numpy array.\n",
    "pixelVal_vec = np.vectorize(pixelVal)\n",
    "  \n",
    "# Apply contrast stretching.\n",
    "contrast_stretched = pixelVal_vec(img, r1, s1, r2, s2)\n",
    "  \n",
    "# Save edited image.\n",
    "cv2.imwrite('contrast_stretch.jpg', contrast_stretched)"
   ]
  },
  {
   "cell_type": "code",
   "execution_count": null,
   "id": "a044ed38",
   "metadata": {},
   "outputs": [],
   "source": []
  }
 ],
 "metadata": {
  "kernelspec": {
   "display_name": "Python 3 (ipykernel)",
   "language": "python",
   "name": "python3"
  },
  "language_info": {
   "codemirror_mode": {
    "name": "ipython",
    "version": 3
   },
   "file_extension": ".py",
   "mimetype": "text/x-python",
   "name": "python",
   "nbconvert_exporter": "python",
   "pygments_lexer": "ipython3",
   "version": "3.9.12"
  }
 },
 "nbformat": 4,
 "nbformat_minor": 5
}
