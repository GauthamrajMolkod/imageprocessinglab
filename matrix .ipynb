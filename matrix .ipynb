{
 "cells": [
  {
   "cell_type": "code",
   "execution_count": 1,
   "id": "a97e0292",
   "metadata": {},
   "outputs": [
    {
     "name": "stdout",
     "output_type": "stream",
     "text": [
      "[[[144 214 212]\n",
      "  [144 214 212]\n",
      "  [144 214 212]\n",
      "  ...\n",
      "  [143 213 211]\n",
      "  [143 213 211]\n",
      "  [143 213 211]]\n",
      "\n",
      " [[112 182 180]\n",
      "  [111 183 180]\n",
      "  [112 182 180]\n",
      "  ...\n",
      "  [108 180 177]\n",
      "  [109 179 177]\n",
      "  [108 180 177]]\n",
      "\n",
      " [[114 186 183]\n",
      "  [112 187 183]\n",
      "  [114 186 183]\n",
      "  ...\n",
      "  [110 185 181]\n",
      "  [112 184 181]\n",
      "  [110 185 181]]\n",
      "\n",
      " ...\n",
      "\n",
      " [[ 97 153 154]\n",
      "  [ 95 153 154]\n",
      "  [ 97 153 154]\n",
      "  ...\n",
      "  [ 95 153 154]\n",
      "  [ 97 153 154]\n",
      "  [ 95 153 154]]\n",
      "\n",
      " [[ 94 144 145]\n",
      "  [ 93 144 145]\n",
      "  [ 94 144 145]\n",
      "  ...\n",
      "  [ 93 144 145]\n",
      "  [ 94 144 145]\n",
      "  [ 93 144 145]]\n",
      "\n",
      " [[205 253 255]\n",
      "  [205 253 255]\n",
      "  [205 253 255]\n",
      "  ...\n",
      "  [205 253 255]\n",
      "  [205 253 255]\n",
      "  [205 253 255]]]\n"
     ]
    }
   ],
   "source": [
    "\n",
    "# Import the necessary libraries\n",
    "from PIL import Image\n",
    "from numpy import asarray\n",
    " \n",
    " \n",
    "# load the image and convert into\n",
    "# numpy array\n",
    "img = Image.open('C:/Users/CCL/Downloads/bitwise/oip.jfif')\n",
    "numpydata = asarray(img)\n",
    " \n",
    "# data\n",
    "print(numpydata)"
   ]
  },
  {
   "cell_type": "code",
   "execution_count": null,
   "id": "230a40e5",
   "metadata": {},
   "outputs": [],
   "source": []
  }
 ],
 "metadata": {
  "kernelspec": {
   "display_name": "Python 3 (ipykernel)",
   "language": "python",
   "name": "python3"
  },
  "language_info": {
   "codemirror_mode": {
    "name": "ipython",
    "version": 3
   },
   "file_extension": ".py",
   "mimetype": "text/x-python",
   "name": "python",
   "nbconvert_exporter": "python",
   "pygments_lexer": "ipython3",
   "version": "3.9.12"
  }
 },
 "nbformat": 4,
 "nbformat_minor": 5
}
