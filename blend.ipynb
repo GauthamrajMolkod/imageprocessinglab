{
 "cells": [
  {
   "cell_type": "code",
   "execution_count": 4,
   "id": "97ed2b31",
   "metadata": {},
   "outputs": [],
   "source": [
    "import cv2\n",
    "\n",
    "# Read Image1\n",
    "img1 = cv2.imread('C:/Users/CCL/Downloads/bitwise/gold.jfif', 1)\n",
    "\n",
    "# Read image2\n",
    "img2 = cv2.imread('C:/Users/CCL/Downloads/bitwise/samsung.jpg', 1)\n",
    "\n",
    "# Blending the images with 0.3 and 0.7\n",
    "img = cv2.addWeighted(img1, 0.3, img2, 0.7, 0)\n",
    "\n",
    "# Show the image\n",
    "cv2.imshow('image', img)\n",
    "\n",
    "# Wait for a key\n",
    "cv2.waitKey(0)\n",
    "\n",
    "# Distroy all the window open\n",
    "cv2.destroyAllWindows()"
   ]
  },
  {
   "cell_type": "code",
   "execution_count": null,
   "id": "8dd1d38a",
   "metadata": {},
   "outputs": [],
   "source": []
  }
 ],
 "metadata": {
  "kernelspec": {
   "display_name": "Python 3 (ipykernel)",
   "language": "python",
   "name": "python3"
  },
  "language_info": {
   "codemirror_mode": {
    "name": "ipython",
    "version": 3
   },
   "file_extension": ".py",
   "mimetype": "text/x-python",
   "name": "python",
   "nbconvert_exporter": "python",
   "pygments_lexer": "ipython3",
   "version": "3.9.12"
  }
 },
 "nbformat": 4,
 "nbformat_minor": 5
}
